{
  "nbformat": 4,
  "nbformat_minor": 0,
  "metadata": {
    "colab": {
      "provenance": [],
      "toc_visible": true,
      "authorship_tag": "ABX9TyN+6n/AchhbPVWkdxfCcGBH",
      "include_colab_link": true
    },
    "kernelspec": {
      "name": "python3",
      "display_name": "Python 3"
    },
    "language_info": {
      "name": "python"
    }
  },
  "cells": [
    {
      "cell_type": "markdown",
      "metadata": {
        "id": "view-in-github",
        "colab_type": "text"
      },
      "source": [
        "<a href=\"https://colab.research.google.com/github/barzansaeedpour/advanced-python-notebooks/blob/main/SOLID_Principles_with_Python.ipynb\" target=\"_parent\"><img src=\"https://colab.research.google.com/assets/colab-badge.svg\" alt=\"Open In Colab\"/></a>"
      ]
    },
    {
      "cell_type": "markdown",
      "source": [
        "# SOLID Principles with Python"
      ],
      "metadata": {
        "id": "2zjhTYsDPrNQ"
      }
    },
    {
      "cell_type": "markdown",
      "source": [
        "SOLID principles are a series of good practices that will make you write better quality software. This looks like a long article but actually it is not. Just the codes takes a little bit more space :)"
      ],
      "metadata": {
        "id": "RzInlijJQrvl"
      }
    },
    {
      "cell_type": "markdown",
      "source": [
        "SOLID stands for:\n",
        "\n",
        "- **S**: Single responsibility principle\n",
        "- **O**: Open/Closed principle\n",
        "- **L**: Liskov’s substitution principle\n",
        "- **I**: Interface segregation principle\n",
        "- **D**: Dependency inversion principle"
      ],
      "metadata": {
        "id": "LdsLKs3YTzie"
      }
    },
    {
      "cell_type": "markdown",
      "source": [],
      "metadata": {
        "id": "t1jbj5DWR3lx"
      }
    },
    {
      "cell_type": "markdown",
      "source": [],
      "metadata": {
        "id": "8Wqs-ttuRwpm"
      }
    },
    {
      "cell_type": "markdown",
      "source": [
        "## Resources\n",
        "\n",
        "- https://medium.com/@m.nusret.ozates/solid-principles-with-python-245e45f9b1f8"
      ],
      "metadata": {
        "id": "KO6SUoZ2Rd2J"
      }
    }
  ]
}
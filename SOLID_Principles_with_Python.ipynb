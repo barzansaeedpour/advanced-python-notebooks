{
  "nbformat": 4,
  "nbformat_minor": 0,
  "metadata": {
    "colab": {
      "provenance": [],
      "toc_visible": true,
      "authorship_tag": "ABX9TyPn/zY8u3BN3IezT1WUhyBx",
      "include_colab_link": true
    },
    "kernelspec": {
      "name": "python3",
      "display_name": "Python 3"
    },
    "language_info": {
      "name": "python"
    }
  },
  "cells": [
    {
      "cell_type": "markdown",
      "metadata": {
        "id": "view-in-github",
        "colab_type": "text"
      },
      "source": [
        "<a href=\"https://colab.research.google.com/github/barzansaeedpour/advanced-python-notebooks/blob/main/SOLID_Principles_with_Python.ipynb\" target=\"_parent\"><img src=\"https://colab.research.google.com/assets/colab-badge.svg\" alt=\"Open In Colab\"/></a>"
      ]
    },
    {
      "cell_type": "markdown",
      "source": [
        "# SOLID Principles with Python"
      ],
      "metadata": {
        "id": "2zjhTYsDPrNQ"
      }
    },
    {
      "cell_type": "markdown",
      "source": [
        "When you build a Python project using object-oriented programming (OOP), planning how the different classes and objects will interact to solve your specific problems is an important part of the job. This planning is known as object-oriented design (OOD), and getting it right can be a challenge. If you’re stuck while designing your Python classes, then the SOLID principles can help you out.\n"
      ],
      "metadata": {
        "id": "RzInlijJQrvl"
      }
    },
    {
      "cell_type": "markdown",
      "source": [
        "\n",
        "SOLID is a set of **five object-oriented design principles** that can help you write more maintainable, flexible, and scalable code based on well-designed, cleanly structured classes. These principles are a fundamental part of object-oriented design best practices.\n"
      ],
      "metadata": {
        "id": "N5M7ITuQnpGO"
      }
    },
    {
      "cell_type": "markdown",
      "source": [
        "\n",
        "In this tutorial, you’ll:\n",
        "\n",
        "- Understand the meaning and purpose of each SOLID principle\n",
        "- Identify Python code that violates some of the SOLID principles\n",
        "- Apply the SOLID principles to refactor your Python code and improve its design\n",
        "\n",
        "Throughout your learning journey, you’ll code practical examples to discover how the SOLID principles can lead to well-organized, flexible, maintainable, and scalable code."
      ],
      "metadata": {
        "id": "u1Nu1UXhnqbu"
      }
    },
    {
      "cell_type": "markdown",
      "source": [
        "To get the most out of this tutorial, you must have a good understanding of Python object-oriented programming concepts, such as **classes**, **interfaces**, and **inheritance**."
      ],
      "metadata": {
        "id": "K6WNm7F1oJRT"
      }
    },
    {
      "cell_type": "markdown",
      "source": [
        "**SOLID** stands for:\n",
        "\n",
        "- **S**: Single responsibility principle\n",
        "- **O**: Open/Closed principle\n",
        "- **L**: Liskov’s substitution principle\n",
        "- **I**: Interface segregation principle\n",
        "- **D**: Dependency inversion principle"
      ],
      "metadata": {
        "id": "LdsLKs3YTzie"
      }
    },
    {
      "cell_type": "markdown",
      "source": [
        "## Single-Responsibility Principle (SRP)\n",
        "\n",
        "The single-responsibility principle states that:\n",
        "\n",
        "**A class should have only one reason to change.**\n",
        "\n",
        "This means that a class should have only one responsibility, as expressed through its methods. If a class takes care of more than one task, then you should separate those tasks into separate classes."
      ],
      "metadata": {
        "id": "t1jbj5DWR3lx"
      }
    },
    {
      "cell_type": "markdown",
      "source": [
        "This principle is closely related to the concept of separation of concerns, which suggests that you should split your programs into different sections. Each section must address a separate concern."
      ],
      "metadata": {
        "id": "14Imjc9rpshM"
      }
    },
    {
      "cell_type": "markdown",
      "source": [
        "To illustrate the single-responsibility principle and how it can help you improve your object-oriented design, say that you have the following FileManager class:"
      ],
      "metadata": {
        "id": "dp_4u0FDp2qT"
      }
    },
    {
      "cell_type": "code",
      "source": [
        "# file_manager_srp.py\n",
        "\n",
        "from pathlib import Path\n",
        "from zipfile import ZipFile\n",
        "\n",
        "class FileManager:\n",
        "    def __init__(self, filename):\n",
        "        self.path = Path(filename)\n",
        "\n",
        "    def read(self, encoding=\"utf-8\"):\n",
        "        return self.path.read_text(encoding)\n",
        "\n",
        "    def write(self, data, encoding=\"utf-8\"):\n",
        "        self.path.write_text(data, encoding)\n",
        "\n",
        "    def compress(self):\n",
        "        with ZipFile(self.path.with_suffix(\".zip\"), mode=\"w\") as archive:\n",
        "            archive.write(self.path)\n",
        "\n",
        "    def decompress(self):\n",
        "        with ZipFile(self.path.with_suffix(\".zip\"), mode=\"r\") as archive:\n",
        "            archive.extractall()"
      ],
      "metadata": {
        "id": "c9zUOT0q1qlc"
      },
      "execution_count": null,
      "outputs": []
    },
    {
      "cell_type": "markdown",
      "source": [
        "In this example, your `FileManager` class has two different responsibilities. It uses the `.read()` and `.write()` methods to manage the file. It also deals with ZIP archives by providing the `.compress()` and `.decompress()` methods."
      ],
      "metadata": {
        "id": "oq-mHXXqqB4P"
      }
    },
    {
      "cell_type": "markdown",
      "source": [
        "This class violates the single-responsibility principle because it has two reasons for changing its internal implementation. To fix this issue and make your design more robust, you can split the class into two smaller, more focused classes, each with its own specific concern:"
      ],
      "metadata": {
        "id": "M6XzsdEgqYs2"
      }
    },
    {
      "cell_type": "code",
      "source": [
        "# file_manager_srp.py\n",
        "\n",
        "from pathlib import Path\n",
        "from zipfile import ZipFile\n",
        "\n",
        "class FileManager:\n",
        "    def __init__(self, filename):\n",
        "        self.path = Path(filename)\n",
        "\n",
        "    def read(self, encoding=\"utf-8\"):\n",
        "        return self.path.read_text(encoding)\n",
        "\n",
        "    def write(self, data, encoding=\"utf-8\"):\n",
        "        self.path.write_text(data, encoding)\n",
        "\n",
        "class ZipFileManager:\n",
        "    def __init__(self, filename):\n",
        "        self.path = Path(filename)\n",
        "\n",
        "    def compress(self):\n",
        "        with ZipFile(self.path.with_suffix(\".zip\"), mode=\"w\") as archive:\n",
        "            archive.write(self.path)\n",
        "\n",
        "    def decompress(self):\n",
        "        with ZipFile(self.path.with_suffix(\".zip\"), mode=\"r\") as archive:\n",
        "            archive.extractall()"
      ],
      "metadata": {
        "id": "H47BRlY21nza"
      },
      "execution_count": null,
      "outputs": []
    },
    {
      "cell_type": "markdown",
      "source": [
        "Now you have two smaller classes, each having only a single responsibility. `FileManager` takes care of managing a file, while `ZipFileManager` handles the compression and decompression of a file using the ZIP format. These two classes are smaller, so they’re more manageable. They’re also easier to reason about, test, and debug."
      ],
      "metadata": {
        "id": "8Wqs-ttuRwpm"
      }
    },
    {
      "cell_type": "markdown",
      "source": [
        "## Open-Closed Principle (OCP)"
      ],
      "metadata": {
        "id": "s3PyEpAjrRG3"
      }
    },
    {
      "cell_type": "markdown",
      "source": [
        "The open-closed principle (OCP) means that:\n",
        "\n",
        "**Software entities (classes, modules, functions, etc.) should be open for extension, but closed for modification.**"
      ],
      "metadata": {
        "id": "YHpNDcSFrS4b"
      }
    },
    {
      "cell_type": "markdown",
      "source": [
        "To understand what the open-closed principle is all about, consider the following Shape class:"
      ],
      "metadata": {
        "id": "PCctUtCkr5C-"
      }
    },
    {
      "cell_type": "code",
      "source": [
        "# shapes_ocp.py\n",
        "\n",
        "from math import pi\n",
        "\n",
        "class Shape:\n",
        "    def __init__(self, shape_type, **kwargs):\n",
        "        self.shape_type = shape_type\n",
        "        if self.shape_type == \"rectangle\":\n",
        "            self.width = kwargs[\"width\"]\n",
        "            self.height = kwargs[\"height\"]\n",
        "        elif self.shape_type == \"circle\":\n",
        "            self.radius = kwargs[\"radius\"]\n",
        "\n",
        "    def calculate_area(self):\n",
        "        if self.shape_type == \"rectangle\":\n",
        "            return self.width * self.height\n",
        "        elif self.shape_type == \"circle\":\n",
        "            return pi * self.radius**2"
      ],
      "metadata": {
        "id": "Z1CorZM-r7Rp"
      },
      "execution_count": 2,
      "outputs": []
    },
    {
      "cell_type": "markdown",
      "source": [
        "The initializer of Shape takes a shape_type argument that can be either `\"rectangle\"` or `\"circle\"`. It also takes a specific set of keyword arguments using the `**kwargs` syntax. If you set the shape type to `\"rectangle\"`, then you should also pass the `width` and `height` keyword arguments so that you can construct a proper rectangle.\n",
        "\n",
        "In contrast, if you set the shape type to `\"circle\"`, then you must also pass a `radius` argument to construct a circle."
      ],
      "metadata": {
        "id": "3uZsoEMNseDx"
      }
    },
    {
      "cell_type": "markdown",
      "source": [
        "Shape also has a `.calculate_area()` method that computes the area of the current shape according to its `.shape_type`:"
      ],
      "metadata": {
        "id": "FkEmjmdxszQm"
      }
    },
    {
      "cell_type": "code",
      "source": [
        "rectangle = Shape(\"rectangle\", width=10, height=5)\n",
        "rectangle.calculate_area()"
      ],
      "metadata": {
        "colab": {
          "base_uri": "https://localhost:8080/"
        },
        "id": "Lv166H01s6ok",
        "outputId": "3bb10016-45e4-4897-c0a1-f538f8cefe8e"
      },
      "execution_count": 3,
      "outputs": [
        {
          "output_type": "execute_result",
          "data": {
            "text/plain": [
              "50"
            ]
          },
          "metadata": {},
          "execution_count": 3
        }
      ]
    },
    {
      "cell_type": "code",
      "source": [
        "circle = Shape(\"circle\", radius=5)\n",
        "circle.calculate_area()\n"
      ],
      "metadata": {
        "colab": {
          "base_uri": "https://localhost:8080/"
        },
        "id": "RtQbfydWtAie",
        "outputId": "340aa781-148d-42c4-851d-175ee066c2a0"
      },
      "execution_count": 4,
      "outputs": [
        {
          "output_type": "execute_result",
          "data": {
            "text/plain": [
              "78.53981633974483"
            ]
          },
          "metadata": {},
          "execution_count": 4
        }
      ]
    },
    {
      "cell_type": "markdown",
      "source": [
        "The class works. You can create circles and rectangles, compute their area, and so on. However, the class looks pretty bad. Something seems wrong with it at first sight.\n"
      ],
      "metadata": {
        "id": "Wet_JcR3tXjw"
      }
    },
    {
      "cell_type": "markdown",
      "source": [
        "Imagine that you need to add a new shape, maybe a square. How would you do that? Well, the option here is to add another elif clause to `.__init__()` and to `.calculate_area()` so that you can address the requirements of a square shape.\n"
      ],
      "metadata": {
        "id": "0DOEOCtfr645"
      }
    },
    {
      "cell_type": "markdown",
      "source": [
        "Having to make these changes to create new shapes means that your class is open to modification. That violates the open-closed principle. How can you fix your class to make it open to extension but closed to modification? Here’s a possible solution:"
      ],
      "metadata": {
        "id": "h1ZYroTcrxfO"
      }
    },
    {
      "cell_type": "code",
      "source": [
        "# shapes_ocp.py\n",
        "\n",
        "from abc import ABC, abstractmethod\n",
        "from math import pi\n",
        "\n",
        "class Shape(ABC):\n",
        "    def __init__(self, shape_type):\n",
        "        self.shape_type = shape_type\n",
        "\n",
        "    @abstractmethod\n",
        "    def calculate_area(self):\n",
        "        pass\n",
        "\n",
        "class Circle(Shape):\n",
        "    def __init__(self, radius):\n",
        "        super().__init__(\"circle\")\n",
        "        self.radius = radius\n",
        "\n",
        "    def calculate_area(self):\n",
        "        return pi * self.radius**2\n",
        "\n",
        "class Rectangle(Shape):\n",
        "    def __init__(self, width, height):\n",
        "        super().__init__(\"rectangle\")\n",
        "        self.width = width\n",
        "        self.height = height\n",
        "\n",
        "    def calculate_area(self):\n",
        "        return self.width * self.height\n",
        "\n",
        "class Square(Shape):\n",
        "    def __init__(self, side):\n",
        "        super().__init__(\"square\")\n",
        "        self.side = side\n",
        "\n",
        "    def calculate_area(self):\n",
        "        return self.side**2"
      ],
      "metadata": {
        "id": "aVhGo--Ptynk"
      },
      "execution_count": null,
      "outputs": []
    },
    {
      "cell_type": "markdown",
      "source": [],
      "metadata": {
        "id": "Wh-lfgiBrxQV"
      }
    },
    {
      "cell_type": "markdown",
      "source": [
        "## Resources\n",
        "\n",
        "- https://medium.com/@m.nusret.ozates/solid-principles-with-python-245e45f9b1f8"
      ],
      "metadata": {
        "id": "KO6SUoZ2Rd2J"
      }
    }
  ]
}
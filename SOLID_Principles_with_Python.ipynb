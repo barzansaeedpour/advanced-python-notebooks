{
  "nbformat": 4,
  "nbformat_minor": 0,
  "metadata": {
    "colab": {
      "provenance": [],
      "toc_visible": true,
      "authorship_tag": "ABX9TyPeZa0ITRGK4n+2kCbLWmf7",
      "include_colab_link": true
    },
    "kernelspec": {
      "name": "python3",
      "display_name": "Python 3"
    },
    "language_info": {
      "name": "python"
    }
  },
  "cells": [
    {
      "cell_type": "markdown",
      "metadata": {
        "id": "view-in-github",
        "colab_type": "text"
      },
      "source": [
        "<a href=\"https://colab.research.google.com/github/barzansaeedpour/advanced-python-notebooks/blob/main/SOLID_Principles_with_Python.ipynb\" target=\"_parent\"><img src=\"https://colab.research.google.com/assets/colab-badge.svg\" alt=\"Open In Colab\"/></a>"
      ]
    },
    {
      "cell_type": "markdown",
      "source": [
        "# SOLID Principles with Python"
      ],
      "metadata": {
        "id": "2zjhTYsDPrNQ"
      }
    },
    {
      "cell_type": "markdown",
      "source": [
        "SOLID principles are a series of good practices that will make you write better quality software."
      ],
      "metadata": {
        "id": "RzInlijJQrvl"
      }
    },
    {
      "cell_type": "markdown",
      "source": [
        "SOLID stands for:\n",
        "\n",
        "- **S**: Single responsibility principle\n",
        "- **O**: Open/Closed principle\n",
        "- **L**: Liskov’s substitution principle\n",
        "- **I**: Interface segregation principle\n",
        "- **D**: Dependency inversion principle"
      ],
      "metadata": {
        "id": "LdsLKs3YTzie"
      }
    },
    {
      "cell_type": "markdown",
      "source": [
        "#"
      ],
      "metadata": {
        "id": "t1jbj5DWR3lx"
      }
    },
    {
      "cell_type": "code",
      "source": [
        "# file_manager_srp.py\n",
        "\n",
        "from pathlib import Path\n",
        "from zipfile import ZipFile\n",
        "\n",
        "class FileManager:\n",
        "    def __init__(self, filename):\n",
        "        self.path = Path(filename)\n",
        "\n",
        "    def read(self, encoding=\"utf-8\"):\n",
        "        return self.path.read_text(encoding)\n",
        "\n",
        "    def write(self, data, encoding=\"utf-8\"):\n",
        "        self.path.write_text(data, encoding)\n",
        "\n",
        "    def compress(self):\n",
        "        with ZipFile(self.path.with_suffix(\".zip\"), mode=\"w\") as archive:\n",
        "            archive.write(self.path)\n",
        "\n",
        "    def decompress(self):\n",
        "        with ZipFile(self.path.with_suffix(\".zip\"), mode=\"r\") as archive:\n",
        "            archive.extractall()"
      ],
      "metadata": {
        "id": "c9zUOT0q1qlc"
      },
      "execution_count": null,
      "outputs": []
    },
    {
      "cell_type": "code",
      "source": [
        "# file_manager_srp.py\n",
        "\n",
        "from pathlib import Path\n",
        "from zipfile import ZipFile\n",
        "\n",
        "class FileManager:\n",
        "    def __init__(self, filename):\n",
        "        self.path = Path(filename)\n",
        "\n",
        "    def read(self, encoding=\"utf-8\"):\n",
        "        return self.path.read_text(encoding)\n",
        "\n",
        "    def write(self, data, encoding=\"utf-8\"):\n",
        "        self.path.write_text(data, encoding)\n",
        "\n",
        "class ZipFileManager:\n",
        "    def __init__(self, filename):\n",
        "        self.path = Path(filename)\n",
        "\n",
        "    def compress(self):\n",
        "        with ZipFile(self.path.with_suffix(\".zip\"), mode=\"w\") as archive:\n",
        "            archive.write(self.path)\n",
        "\n",
        "    def decompress(self):\n",
        "        with ZipFile(self.path.with_suffix(\".zip\"), mode=\"r\") as archive:\n",
        "            archive.extractall()"
      ],
      "metadata": {
        "id": "H47BRlY21nza"
      },
      "execution_count": null,
      "outputs": []
    },
    {
      "cell_type": "markdown",
      "source": [],
      "metadata": {
        "id": "8Wqs-ttuRwpm"
      }
    },
    {
      "cell_type": "markdown",
      "source": [
        "## Resources\n",
        "\n",
        "- https://medium.com/@m.nusret.ozates/solid-principles-with-python-245e45f9b1f8"
      ],
      "metadata": {
        "id": "KO6SUoZ2Rd2J"
      }
    }
  ]
}
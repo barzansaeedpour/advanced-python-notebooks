{
  "nbformat": 4,
  "nbformat_minor": 0,
  "metadata": {
    "colab": {
      "provenance": [],
      "authorship_tag": "ABX9TyOHSK2X0uYkBaCEexLUwF5o",
      "include_colab_link": true
    },
    "kernelspec": {
      "name": "python3",
      "display_name": "Python 3"
    },
    "language_info": {
      "name": "python"
    }
  },
  "cells": [
    {
      "cell_type": "markdown",
      "metadata": {
        "id": "view-in-github",
        "colab_type": "text"
      },
      "source": [
        "<a href=\"https://colab.research.google.com/github/barzansaeedpour/advanced-python-notebooks/blob/main/SOLID_Principles_with_Python.ipynb\" target=\"_parent\"><img src=\"https://colab.research.google.com/assets/colab-badge.svg\" alt=\"Open In Colab\"/></a>"
      ]
    },
    {
      "cell_type": "markdown",
      "source": [
        "# SOLID Principles with Python\n",
        "<div dir=\"rtl\">\n",
        "<h1>\n",
        "اصول SOLID با پایتون\n",
        "</h1>\n",
        "</div>"
      ],
      "metadata": {
        "id": "2zjhTYsDPrNQ"
      }
    },
    {
      "cell_type": "markdown",
      "source": [
        "<div dir=\"rtl\">\n",
        "اصول SOLID در برنامه نویسی توسط آقای «رابرت سی. مارتین» (Robert C. Martin) در مقاله‌ای به نام «اصول طراحی و الگوهای طراحی» (Design Principles and Design Patterns) در سال ۱۳۸۲ شمسی (۲۰۰۰ میلادی) معرفی شدند. این مفاهیم بعدا توسط «مایکل فدرز» (Michael Feathers) گسترش یافتند. آقای فدرز کسی بود که کلمه مخفف «سالید» (SOLID) را ابدع کرد و برای اولین بار استفاده کرد و در طول ۲۰ سال گذشته، این اصول پنج‌گانه از طریق اصلاح راه و روش نوشتن نرم‌افزارها، دنیای برنامه‌نویسی شی‌گرایانه را دچار تغییر و تحول بزرگی کردند. در این نوت بوک به اصول سالید در برنامه نویسی خواهیم پرداخت و برای هریک با نوشتن نمونه کد مثال‌هایی ارائه می‌دهیم.\n",
        "</div>"
      ],
      "metadata": {
        "id": "RzInlijJQrvl"
      }
    },
    {
      "cell_type": "markdown",
      "source": [
        "<div dir=\"rtl\">\n",
        "    <ul>\n",
        "        <li>\n",
        "            اصل تک‌مسئولیتی (Single Responsibility Principle | SRP)\n",
        "        </li>\n",
        "        <li>\n",
        "            اصل باز - بسته (Open/Closed Principle | OCP)\n",
        "        </li>\n",
        "        <li>\n",
        "            اصل جایگزینی لیسکوف (Liskov Substitution Principle | LSP)\n",
        "        </li>\n",
        "        <li>\n",
        "            اصل جداسازی اینترفیس‌ها (Interface Segregation Principle | ISP)\n",
        "        </li>\n",
        "        <li>\n",
        "            اصل وارونگی وابستگی (Dependency Inversion Principle | DIP)\n",
        "        </li>\n",
        "    </ul>\n",
        "</div>"
      ],
      "metadata": {
        "id": "t1jbj5DWR3lx"
      }
    },
    {
      "cell_type": "markdown",
      "source": [],
      "metadata": {
        "id": "8Wqs-ttuRwpm"
      }
    },
    {
      "cell_type": "code",
      "execution_count": null,
      "metadata": {
        "id": "-RkH0qXOPOJI"
      },
      "outputs": [],
      "source": []
    },
    {
      "cell_type": "markdown",
      "source": [
        "## Resources\n",
        "## منابع\n",
        "\n",
        "- https://medium.com/@m.nusret.ozates/solid-principles-with-python-245e45f9b1f8\n",
        "- https://blog.faradars.org/%D8%A7%D8%B5%D9%88%D9%84-solid-%D8%AF%D8%B1-%D8%A8%D8%B1%D9%86%D8%A7%D9%85%D9%87-%D9%86%D9%88%DB%8C%D8%B3%DB%8C/"
      ],
      "metadata": {
        "id": "KO6SUoZ2Rd2J"
      }
    }
  ]
}